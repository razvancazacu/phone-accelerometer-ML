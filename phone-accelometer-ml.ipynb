{
 "cells": [
  {
   "cell_type": "code",
   "execution_count": 1,
   "metadata": {},
   "outputs": [],
   "source": [
    "#librariile folosite pentru rezolvare\n",
    "import numpy as np\n",
    "import matplotlib.pyplot as plt\n",
    "%matplotlib inline\n",
    "from sklearn import svm\n",
    "from sklearn import preprocessing\n",
    "from sklearn import metrics\n",
    "import pdb\n",
    "import math\n",
    "import pandas as pd\n",
    "import os\n",
    "import csv\n",
    "from sklearn.model_selection import train_test_split\n",
    "\n",
    "dataPath = \"/Users/cmrra/Documents/PythonML/ProiectML/\""
   ]
  },
  {
   "cell_type": "code",
   "execution_count": 2,
   "metadata": {},
   "outputs": [
    {
     "data": {
      "text/html": [
       "<div>\n",
       "<style scoped>\n",
       "    .dataframe tbody tr th:only-of-type {\n",
       "        vertical-align: middle;\n",
       "    }\n",
       "\n",
       "    .dataframe tbody tr th {\n",
       "        vertical-align: top;\n",
       "    }\n",
       "\n",
       "    .dataframe thead th {\n",
       "        text-align: right;\n",
       "    }\n",
       "</style>\n",
       "<table border=\"1\" class=\"dataframe\">\n",
       "  <thead>\n",
       "    <tr style=\"text-align: right;\">\n",
       "      <th></th>\n",
       "      <th>0</th>\n",
       "      <th>1</th>\n",
       "    </tr>\n",
       "  </thead>\n",
       "  <tbody>\n",
       "    <tr>\n",
       "      <th>0</th>\n",
       "      <td>id</td>\n",
       "      <td>class</td>\n",
       "    </tr>\n",
       "    <tr>\n",
       "      <th>1</th>\n",
       "      <td>10003</td>\n",
       "      <td>7</td>\n",
       "    </tr>\n",
       "    <tr>\n",
       "      <th>2</th>\n",
       "      <td>10005</td>\n",
       "      <td>13</td>\n",
       "    </tr>\n",
       "    <tr>\n",
       "      <th>3</th>\n",
       "      <td>10006</td>\n",
       "      <td>6</td>\n",
       "    </tr>\n",
       "    <tr>\n",
       "      <th>4</th>\n",
       "      <td>10007</td>\n",
       "      <td>1</td>\n",
       "    </tr>\n",
       "  </tbody>\n",
       "</table>\n",
       "</div>"
      ],
      "text/plain": [
       "       0      1\n",
       "0     id  class\n",
       "1  10003      7\n",
       "2  10005     13\n",
       "3  10006      6\n",
       "4  10007      1"
      ]
     },
     "execution_count": 2,
     "metadata": {},
     "output_type": "execute_result"
    }
   ],
   "source": [
    "#citesc label-urile de training cu panda\n",
    "train_labels = pd.read_csv(dataPath + \"train_labels.csv\",header=None)\n",
    "train_labels.head()\n",
    "#train_labels.shape"
   ]
  },
  {
   "cell_type": "code",
   "execution_count": 3,
   "metadata": {},
   "outputs": [
    {
     "name": "stdout",
     "output_type": "stream",
     "text": [
      "[['id' 'class']\n",
      " ['10003' '7']\n",
      " ['10005' '13']\n",
      " ...\n",
      " ['23996' '3']\n",
      " ['23997' '3']\n",
      " ['23999' '18']]\n"
     ]
    }
   ],
   "source": [
    "#conversie in np array\n",
    "np_train_labels = np.array(train_labels)\n",
    "print(np_train_labels)"
   ]
  },
  {
   "cell_type": "code",
   "execution_count": 10,
   "metadata": {},
   "outputs": [
    {
     "data": {
      "text/plain": [
       "[<matplotlib.lines.Line2D at 0x1789820c8d0>]"
      ]
     },
     "execution_count": 10,
     "metadata": {},
     "output_type": "execute_result"
    },
    {
     "data": {
      "image/png": "[encoded data removed]",
      "text/plain": [
       "<Figure size 432x288 with 1 Axes>"
      ]
     },
     "metadata": {
      "needs_background": "light"
     },
     "output_type": "display_data"
    }
   ],
   "source": [
    "#citirea datelor de training si te test\n",
    "train_data_lines = []\n",
    "for root, dirs, files in os.walk(dataPath +\"train/\"):\n",
    "    for x in files:\n",
    "        train_data = np.array(pd.read_csv(dataPath + \"train/\" +x, header=None))\n",
    "        avgx = train_data[:][0].mean()\n",
    "        avgy = train_data[:][1].mean()\n",
    "        avgz = train_data[:][2].mean()\n",
    "        for i in range(train_data.shape[0],150):   # adaug elemente pana ajung la dimensiunea dorita\n",
    "            train_data = np.concatenate(\n",
    "                (train_data,\n",
    "                 [[avgx,avgy,avgz]]\n",
    "                ),axis=0)            \n",
    "        train_data = train_data.flatten()\n",
    "        train_data_lines.append(train_data[:450])\n",
    "train_data_lines = np.array(train_data_lines)\n",
    "plt.plot(train_data_lines[0],\"ro\")\n",
    "plt.plot(train_data_lines[1],\"bo\")"
   ]
  },
  {
   "cell_type": "code",
   "execution_count": 5,
   "metadata": {},
   "outputs": [
    {
     "name": "stdout",
     "output_type": "stream",
     "text": [
      "[[-0.320224    4.966173    7.307702   ...  0.429161    4.543596\n",
      "   8.509591  ]\n",
      " [-0.654216    3.795408    8.034343   ...  3.72517833  3.898359\n",
      "   3.86424167]\n",
      " [-0.563835    4.702811    8.301894   ... -1.465251    3.43149\n",
      "   9.03452   ]\n",
      " ...\n",
      " [ 0.283713    5.707178    6.952762   ...  0.419584    4.325724\n",
      "   7.018602  ]\n",
      " [-1.40779     4.279635    8.316858   ... -0.077812    5.069124\n",
      "   8.081029  ]\n",
      " [-0.0413      3.331532    9.76116    ... -1.177947    3.728371\n",
      "   8.290522  ]]\n"
     ]
    },
    {
     "data": {
      "text/plain": [
       "[<matplotlib.lines.Line2D at 0x178980cd748>]"
      ]
     },
     "execution_count": 5,
     "metadata": {},
     "output_type": "execute_result"
    },
    {
     "data": {
      "image/png": "[encoded data removed]",
      "text/plain": [
       "<Figure size 432x288 with 1 Axes>"
      ]
     },
     "metadata": {
      "needs_background": "light"
     },
     "output_type": "display_data"
    }
   ],
   "source": [
    "test_data_lines = []\n",
    "for root, dirs, files in os.walk(dataPath +\"test/\"):\n",
    "    testedFiles = files\n",
    "    for x in files:\n",
    "        test_data = np.array(pd.read_csv(dataPath + \"test/\" +x, header=None))\n",
    "        #calculez media pentru a o adauga in cazul in care lipsesc feature-uri\n",
    "        avgx = test_data[:][0].mean()\n",
    "        avgy = test_data[:][1].mean()\n",
    "        avgz = test_data[:][2].mean()\n",
    "        for i in range(test_data.shape[0],150):   # adaug elemente pana ajung la dimensiunea dorita\n",
    "            test_data = np.concatenate(\n",
    "                (test_data,\n",
    "                 [[avgx,avgy,avgz]])\n",
    "                ,axis=0)            \n",
    "        test_data = test_data.flatten()\n",
    "        test_data_lines.append(test_data[:450])\n",
    "test_data_lines = np.array(test_data_lines)\n",
    "print(test_data_lines)\n",
    "\n",
    "plt.plot(test_data_lines[0],\"ro\")\n",
    "plt.plot(test_data_lines[1],\"bo\")"
   ]
  },
  {
   "cell_type": "code",
   "execution_count": 6,
   "metadata": {},
   "outputs": [
    {
     "name": "stdout",
     "output_type": "stream",
     "text": [
      "5000\n"
     ]
    }
   ],
   "source": [
    "filesGood = []\n",
    "for x in testedFiles:\n",
    "    filesGood.append(x.replace('.csv',''))"
   ]
  },
  {
   "cell_type": "code",
   "execution_count": 7,
   "metadata": {},
   "outputs": [
    {
     "name": "stdout",
     "output_type": "stream",
     "text": [
      "(9001, 2) <class 'pandas.core.frame.DataFrame'>\n",
      "[['10003' '7']\n",
      " ['10005' '13']\n",
      " ['10006' '6']\n",
      " ...\n",
      " ['23996' '3']\n",
      " ['23997' '3']\n",
      " ['23999' '18']]\n"
     ]
    }
   ],
   "source": [
    "#sterg prima linie care contine text\n",
    "print(train_labels.shape,type(train_labels))\n",
    "if np_train_labels[0][0] == 'id':\n",
    "    np_train_labels = np.delete(np_train_labels, 0, 0)\n",
    "print(np_train_labels)"
   ]
  },
  {
   "cell_type": "code",
   "execution_count": 8,
   "metadata": {},
   "outputs": [],
   "source": [
    "#functiile folosite pentru normalizarea datei. Cea mai eficienta pentru\n",
    "#ce am folosit eu este standard\n",
    "def normalize_data(train_data, test_data, type):\n",
    "    if type == 'standard':\n",
    "        scaler = preprocessing.StandardScaler()\n",
    "        scaler.fit(train_data)\n",
    "        train_data = scaler.transform(train_data)\n",
    "        test_data = scaler.transform(test_data)\n",
    "        return train_data, test_data\n",
    "    elif type == 'min_max':\n",
    "        min_max_scaler = preprocessing.MinMaxScaler(feature_range=(0, 1))\n",
    "        min_max_scaler.fit(train_data)\n",
    "        train_data = min_max_scaler.transform(train_data)\n",
    "        test_data = min_max_scaler.transform(test_data)\n",
    "        return train_data, test_data\n",
    "    elif type == 'l1':\n",
    "        train_data /= np.sum(abs(train_data), axis=1, keepdims=True)\n",
    "        test_data /= np.sum(abs(test_data), axis=1, keepdims=True)\n",
    "        return train_data, test_data\n",
    "    elif type == 'l2':\n",
    "        train_data /= np.sqrt(np.sum((train_data) ** 2, axis=1, keepdims=True))\n",
    "        test_data /= np.sqrt(np.sum((test_data) ** 2, axis=1, keepdims=True))\n",
    "        return train_data, test_data\n",
    "#svm-ul folosit pentru antrenare\n",
    "def svm_classifier(train_data, train_labels, test_data, c):\n",
    "#     linear_svm_model = svm.SVC(C=c, kernel='linear')\n",
    "#     linear_svm_model = svm.SVC(C=c, kernel='poly',degree = 10)\n",
    "#     linear_svm_model = svm.SVC(C=c, kernel='rbf') # best pe standard\n",
    "#     linear_svm_model = svm.SVC(C=c, kernel ='sigmoid')   \n",
    "    linear_svm_model = svm.SVC(C=c, gamma='scale')\n",
    "\n",
    "    linear_svm_model.fit(train_data, train_labels)\n",
    "\n",
    "    predicted_labels_train = linear_svm_model.predict(train_data)\n",
    "    predicted_labels_test = linear_svm_model.predict(test_data)\n",
    "    \n",
    "    return predicted_labels_train, predicted_labels_test"
   ]
  },
  {
   "cell_type": "code",
   "execution_count": 14,
   "metadata": {},
   "outputs": [
    {
     "data": {
      "text/plain": [
       "(5000, 450)"
      ]
     },
     "execution_count": 14,
     "metadata": {},
     "output_type": "execute_result"
    }
   ],
   "source": [
    "#cum arata matricile 2D ale datelor de test si training\n",
    "train_data_lines.shape\n",
    "test_data_lines.shape"
   ]
  },
  {
   "cell_type": "code",
   "execution_count": 15,
   "metadata": {
    "scrolled": true
   },
   "outputs": [
    {
     "data": {
      "text/plain": [
       "[<matplotlib.lines.Line2D at 0x1789a3ae828>]"
      ]
     },
     "execution_count": 15,
     "metadata": {},
     "output_type": "execute_result"
    },
    {
     "data": {
      "image/png": "[encoded data removed]",
      "text/plain": [
       "<Figure size 432x288 with 1 Axes>"
      ]
     },
     "metadata": {
      "needs_background": "light"
     },
     "output_type": "display_data"
    }
   ],
   "source": [
    "#vizualizarea datelor dupa normalizare\n",
    "scaled_train_data, scaled_test_data = normalize_data(train_data_lines, test_data_lines,'standard')\n",
    "plt.plot(scaled_train_data[0],\"co\")\n",
    "plt.plot(scaled_train_data[1],\"go\")"
   ]
  },
  {
   "cell_type": "code",
   "execution_count": 16,
   "metadata": {},
   "outputs": [
    {
     "name": "stdout",
     "output_type": "stream",
     "text": [
      "[0.998]\n",
      "['3' '10' '5' '20' '13' '13' '9' '4' '5' '3' '16' '9' '10' '13' '17']\n"
     ]
    }
   ],
   "source": [
    "#Antrenare pe toate datele de training + predict pe test\n",
    "accuracies_train = []\n",
    "accuracies_test = []\n",
    "Cs=[9.1]\n",
    "for c in Cs:\n",
    "    predicted_labels_train, predicted_labels_test = svm_classifier(\n",
    "        scaled_train_data,\n",
    "        np_train_labels[0:9000,[1]].flatten(),\n",
    "        scaled_test_data,\n",
    "        c)\n",
    "    acc_train = metrics.accuracy_score(np_train_labels[0:9000,[1]],predicted_labels_train)\n",
    "    accuracies_train.append(acc_train)\n",
    "print(accuracies_train)\n",
    "print(predicted_labels_test[0:15])"
   ]
  },
  {
   "cell_type": "code",
   "execution_count": 17,
   "metadata": {
    "scrolled": true
   },
   "outputs": [
    {
     "name": "stdout",
     "output_type": "stream",
     "text": [
      "[[ 70   0   0   0   0   0   1   0   0   0   0   0   0   0   0   0   0   6\n",
      "    0   0]\n",
      " [  0  96   0   0   0   0   0   0   0   0   0   2   0   0   0   0   0   0\n",
      "    0   0]\n",
      " [  0   0  89   0   0   0   0   1   0   0   0   0   0   0   0   0   0   0\n",
      "    0   0]\n",
      " [  0   0   0  65   0   0   0   0   0   0   0   0   0   0   0   0   0   0\n",
      "    0   0]\n",
      " [  0   0   0   0  79   0   0   0   5   0   3   0   1   3   0   3   0   0\n",
      "    0   3]\n",
      " [  0   0   0   0   0  89   0   0   0   0   0   0   0   0   0   0   0   0\n",
      "    1   0]\n",
      " [  0   1   0   0   0   0  75   0   0   0   0   2   0   0   0   0   1   0\n",
      "    0   0]\n",
      " [  0   0   0   0   0   0   0  86   0   0   0   0   0   0   0   0   0   0\n",
      "    0   0]\n",
      " [  0   0   0   0   2   0   0   0  85   0   1   0   0   1   0   0   0   0\n",
      "    0   0]\n",
      " [  0   0   0   0   0   0   0   0   0  96   0   0   0   0   0   0   0   0\n",
      "    0   0]\n",
      " [  0   0   0   0   2   0   0   0   6   0  81   0   0   5   0   0   0   0\n",
      "    0   1]\n",
      " [  0   8   0   0   0   0   3   0   0   0   0  72   0   0   3   0   0   0\n",
      "    0   0]\n",
      " [  0   0   0   0   0   0   0   0   0   0   0   2  84   0   0   0   0   0\n",
      "    0   0]\n",
      " [  0   0   0   0   4   0   0   0   0   0   4   0   0  90   0   1   0   0\n",
      "    0   3]\n",
      " [  0   2   0   0   0   0   5   0   0   0   0   6   1   0  76   0   0   0\n",
      "    0   0]\n",
      " [  0   0   0   0   5   0   0   0   0   0   1   0   1   1   0  99   0   0\n",
      "    0   4]\n",
      " [  0   1   0   0   0   0   1   0   0   0   0   1   0   0   1   0  76   0\n",
      "    0   0]\n",
      " [  3   0   0   0   0   0   2   0   0   1   0   0   0   0   0   0   1 102\n",
      "    0   0]\n",
      " [  0   0   0   0   0   6   0   0   0   0   0   0   0   0   0   0   0   0\n",
      "   87   0]\n",
      " [  0   0   0   0   3   0   0   0   0   0   0   0   0   1   0   6   0   0\n",
      "    0  71]]\n",
      "9  | train acc =  0.9981944444444445  | test acc =  0.9266666666666666\n",
      "[[ 70   0   0   0   0   0   1   0   0   0   0   0   0   0   0   0   0   6\n",
      "    0   0]\n",
      " [  0  96   0   0   0   0   0   0   0   0   0   2   0   0   0   0   0   0\n",
      "    0   0]\n",
      " [  0   0  89   0   0   0   0   1   0   0   0   0   0   0   0   0   0   0\n",
      "    0   0]\n",
      " [  0   0   0  65   0   0   0   0   0   0   0   0   0   0   0   0   0   0\n",
      "    0   0]\n",
      " [  0   0   0   0  79   0   0   0   5   0   3   0   1   3   0   3   0   0\n",
      "    0   3]\n",
      " [  0   0   0   0   0  89   0   0   0   0   0   0   0   0   0   0   0   0\n",
      "    1   0]\n",
      " [  0   1   0   0   0   0  75   0   0   0   0   2   0   0   0   0   1   0\n",
      "    0   0]\n",
      " [  0   0   0   0   0   0   0  86   0   0   0   0   0   0   0   0   0   0\n",
      "    0   0]\n",
      " [  0   0   0   0   2   0   0   0  85   0   1   0   0   1   0   0   0   0\n",
      "    0   0]\n",
      " [  0   0   0   0   0   0   0   0   0  96   0   0   0   0   0   0   0   0\n",
      "    0   0]\n",
      " [  0   0   0   0   2   0   0   0   6   0  81   0   0   5   0   0   0   0\n",
      "    0   1]\n",
      " [  0   8   0   0   0   0   3   0   0   0   0  72   0   0   3   0   0   0\n",
      "    0   0]\n",
      " [  0   0   0   0   0   0   0   0   0   0   0   2  84   0   0   0   0   0\n",
      "    0   0]\n",
      " [  0   0   0   0   4   0   0   0   0   0   4   0   0  90   0   1   0   0\n",
      "    0   3]\n",
      " [  0   2   0   0   0   0   5   0   0   0   0   6   1   0  76   0   0   0\n",
      "    0   0]\n",
      " [  0   0   0   0   5   0   0   0   0   0   1   0   1   1   0  99   0   0\n",
      "    0   4]\n",
      " [  0   1   0   0   0   0   1   0   0   0   0   1   0   0   0   0  77   0\n",
      "    0   0]\n",
      " [  3   0   0   0   0   0   2   0   0   1   0   0   0   0   0   0   1 102\n",
      "    0   0]\n",
      " [  0   0   0   0   0   6   0   0   0   0   0   0   0   0   0   0   0   0\n",
      "   87   0]\n",
      " [  0   0   0   0   3   0   0   0   0   0   0   0   0   1   0   6   0   0\n",
      "    0  71]]\n",
      "9.1  | train acc =  0.9983333333333333  | test acc =  0.9272222222222222\n",
      "[[ 70   0   0   0   0   0   1   0   0   0   0   0   0   0   0   0   0   6\n",
      "    0   0]\n",
      " [  0  96   0   0   0   0   0   0   0   0   0   2   0   0   0   0   0   0\n",
      "    0   0]\n",
      " [  0   0  89   0   0   0   0   1   0   0   0   0   0   0   0   0   0   0\n",
      "    0   0]\n",
      " [  0   0   0  65   0   0   0   0   0   0   0   0   0   0   0   0   0   0\n",
      "    0   0]\n",
      " [  0   0   0   0  79   0   0   0   5   0   3   0   1   3   0   3   0   0\n",
      "    0   3]\n",
      " [  0   0   0   0   0  89   0   0   0   0   0   0   0   0   0   0   0   0\n",
      "    1   0]\n",
      " [  0   1   0   0   0   0  75   0   0   0   0   2   0   0   0   0   1   0\n",
      "    0   0]\n",
      " [  0   0   0   0   0   0   0  86   0   0   0   0   0   0   0   0   0   0\n",
      "    0   0]\n",
      " [  0   0   0   0   2   0   0   0  85   0   1   0   0   1   0   0   0   0\n",
      "    0   0]\n",
      " [  0   0   0   0   0   0   0   0   0  96   0   0   0   0   0   0   0   0\n",
      "    0   0]\n",
      " [  0   0   0   0   2   0   0   0   6   0  81   0   0   5   0   0   0   0\n",
      "    0   1]\n",
      " [  0   8   0   0   0   0   3   0   0   0   0  72   0   0   3   0   0   0\n",
      "    0   0]\n",
      " [  0   0   0   0   0   0   0   0   0   0   0   2  84   0   0   0   0   0\n",
      "    0   0]\n",
      " [  0   0   0   0   4   0   0   0   0   0   4   0   0  90   0   1   0   0\n",
      "    0   3]\n",
      " [  0   2   0   0   0   0   5   0   0   0   0   6   1   0  76   0   0   0\n",
      "    0   0]\n",
      " [  0   0   0   0   5   0   0   0   0   0   1   0   1   1   0  99   0   0\n",
      "    0   4]\n",
      " [  0   1   0   0   0   0   1   0   0   0   0   1   0   0   0   0  77   0\n",
      "    0   0]\n",
      " [  3   0   0   0   0   0   2   0   0   1   0   0   0   0   0   0   1 102\n",
      "    0   0]\n",
      " [  0   0   0   0   0   6   0   0   0   0   0   0   0   0   0   0   0   0\n",
      "   87   0]\n",
      " [  0   0   0   0   2   0   0   0   0   0   0   0   0   2   0   6   0   0\n",
      "    0  71]]\n",
      "9.3  | train acc =  0.9983333333333333  | test acc =  0.9272222222222222\n",
      "[0.9981944444444445, 0.9981944444444445, 0.9983333333333333, 0.9983333333333333, 0.9983333333333333, 0.9983333333333333]\n"
     ]
    }
   ],
   "source": [
    "## antrenare pe 80% din training si testare pe 20% \n",
    "# sau kfolding pe 5\n",
    "from sklearn.model_selection import KFold\n",
    "\n",
    "accuracies_train = []\n",
    "accuracies_test = []\n",
    "\n",
    "# kf = KFold(5,True,1)\n",
    "## kf.get_n_splits(scaled_train_data)\n",
    "#cross validation\n",
    "# for train_index, test_index in kf.split(scaled_train_data):\n",
    "#     print(\"TRAIN:\", train_index, \"TEST:\", test_index)\n",
    "#     X_train, X_test = scaled_train_data[train_index], scaled_train_data[test_index]\n",
    "#     y_train, y_test = np_train_labels[train_index,[1]], np_train_labels[test_index,[1]]\n",
    "\n",
    "Cs=[9,9.1,9.3] \n",
    "for c in Cs:\n",
    "    predicted_labels_train, predicted_labels_test = svm_classifier(\n",
    "        scaled_train_data[:7200],\n",
    "        np_train_labels[:7200,[1]].flatten(),\n",
    "        scaled_train_data[7200:9000],\n",
    "        c)\n",
    "    acc_test =metrics.accuracy_score(np_train_labels[7200:9000,[1]].flatten(),predicted_labels_test)\n",
    "    \n",
    "    print(metrics.confusion_matrix(np_train_labels[7200:9000,[1]],predicted_labels_test))\n",
    "    \n",
    "    acc_train = metrics.accuracy_score(np_train_labels[0:7200,[1]],predicted_labels_train)\n",
    "    \n",
    "    accuracies_train.append( acc_train )\n",
    "    print(c,\" | train acc = \",acc_train, \" | test acc = \", acc_test)\n",
    "    accuracies_train.append(acc_train)\n",
    "print(accuracies_train)"
   ]
  },
  {
   "cell_type": "code",
   "execution_count": 13,
   "metadata": {},
   "outputs": [
    {
     "name": "stdout",
     "output_type": "stream",
     "text": [
      "/Users/cmrra/Documents/PythonML/ProiectML/\n"
     ]
    },
    {
     "ename": "NameError",
     "evalue": "name 'predicted_labels_test' is not defined",
     "output_type": "error",
     "traceback": [
      "\u001b[1;31m---------------------------------------------------------------------------\u001b[0m",
      "\u001b[1;31mNameError\u001b[0m                                 Traceback (most recent call last)",
      "\u001b[1;32m<ipython-input-13-0a69154f5544>\u001b[0m in \u001b[0;36m<module>\u001b[1;34m\u001b[0m\n\u001b[0;32m      1\u001b[0m \u001b[0mprint\u001b[0m\u001b[1;33m(\u001b[0m\u001b[0mdataPath\u001b[0m\u001b[1;33m)\u001b[0m\u001b[1;33m\u001b[0m\u001b[1;33m\u001b[0m\u001b[0m\n\u001b[1;32m----> 2\u001b[1;33m \u001b[0mprint\u001b[0m\u001b[1;33m(\u001b[0m\u001b[0mlen\u001b[0m\u001b[1;33m(\u001b[0m\u001b[0mpredicted_labels_test\u001b[0m\u001b[1;33m)\u001b[0m\u001b[1;33m)\u001b[0m\u001b[1;33m\u001b[0m\u001b[1;33m\u001b[0m\u001b[0m\n\u001b[0m\u001b[0;32m      3\u001b[0m \u001b[1;32mwith\u001b[0m \u001b[0mopen\u001b[0m\u001b[1;33m(\u001b[0m\u001b[0mdataPath\u001b[0m \u001b[1;33m+\u001b[0m \u001b[1;34m'fill_with_avg_150Vals_c9.1_sweetspot.csv'\u001b[0m\u001b[1;33m,\u001b[0m \u001b[0mmode\u001b[0m\u001b[1;33m=\u001b[0m\u001b[1;34m'w'\u001b[0m\u001b[1;33m,\u001b[0m \u001b[0mnewline\u001b[0m\u001b[1;33m=\u001b[0m\u001b[1;34m''\u001b[0m\u001b[1;33m)\u001b[0m \u001b[1;32mas\u001b[0m \u001b[0msm\u001b[0m\u001b[1;33m:\u001b[0m\u001b[1;33m\u001b[0m\u001b[1;33m\u001b[0m\u001b[0m\n\u001b[0;32m      4\u001b[0m     \u001b[0mwriter\u001b[0m \u001b[1;33m=\u001b[0m \u001b[0mcsv\u001b[0m\u001b[1;33m.\u001b[0m\u001b[0mwriter\u001b[0m\u001b[1;33m(\u001b[0m\u001b[0msm\u001b[0m\u001b[1;33m,\u001b[0m \u001b[0mdelimiter\u001b[0m\u001b[1;33m=\u001b[0m\u001b[1;34m','\u001b[0m\u001b[1;33m)\u001b[0m\u001b[1;33m\u001b[0m\u001b[1;33m\u001b[0m\u001b[0m\n\u001b[0;32m      5\u001b[0m     \u001b[0mwriter\u001b[0m\u001b[1;33m.\u001b[0m\u001b[0mwriterow\u001b[0m\u001b[1;33m(\u001b[0m\u001b[1;33m[\u001b[0m\u001b[1;34m'id'\u001b[0m\u001b[1;33m,\u001b[0m \u001b[1;34m'class'\u001b[0m\u001b[1;33m]\u001b[0m\u001b[1;33m)\u001b[0m\u001b[1;33m\u001b[0m\u001b[1;33m\u001b[0m\u001b[0m\n",
      "\u001b[1;31mNameError\u001b[0m: name 'predicted_labels_test' is not defined"
     ]
    }
   ],
   "source": [
    "#scrierea in fisier a predict-ului dat de alg.\n",
    "print(dataPath)\n",
    "print(len(predicted_labels_test))\n",
    "with open(dataPath + 'fill_with_avg_150Vals_c9.1_sweetspot.csv', mode='w', newline='') as sm:\n",
    "    writer = csv.writer(sm, delimiter=',')\n",
    "    writer.writerow(['id', 'class'])\n",
    "    for i in range(5000):\n",
    "        writer.writerow([filesGood[i],predicted_labels_test[i]])"
   ]
  },
  {
   "cell_type": "code",
   "execution_count": null,
   "metadata": {},
   "outputs": [],
   "source": []
  }
 ],
 "metadata": {
  "kernelspec": {
   "display_name": "Python 3",
   "language": "python",
   "name": "python3"
  },
  "language_info": {
   "codemirror_mode": {
    "name": "ipython",
    "version": 3
   },
   "file_extension": ".py",
   "mimetype": "text/x-python",
   "name": "python",
   "nbconvert_exporter": "python",
   "pygments_lexer": "ipython3",
   "version": "3.7.3"
  }
 },
 "nbformat": 4,
 "nbformat_minor": 2
}
